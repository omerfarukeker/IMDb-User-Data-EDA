{
 "cells": [
  {
   "cell_type": "markdown",
   "metadata": {},
   "source": [
    "## Exploratory Data Analysis on an IMDb Member Data\n",
    "\n",
    "In this notebook we will explore an IMDb user's data. You can download your own ratings and much more information of the films you rated on IMDb (you must have an account there to do that). Go to your profile page and click on **\"Your Ratings\"** button. From there click on the three vertical dots and click \"Export\" which downloads your data in the .csv file format.\n",
    "\n",
    "Let's start with necessary imports:"
   ]
  },
  {
   "cell_type": "code",
   "execution_count": 14,
   "metadata": {},
   "outputs": [],
   "source": [
    "import pandas as pd\n",
    "import numpy as np\n",
    "import seaborn as sns\n",
    "import matplotlib.pyplot as plt\n",
    "from datetime import date\n",
    "sns.set(style=\"darkgrid\")\n",
    "plt.style.use(\"seaborn-pastel\")\n",
    "%matplotlib widget"
   ]
  },
  {
   "cell_type": "markdown",
   "metadata": {},
   "source": [
    "I downloaded my data from the website, and let's first load the data here:"
   ]
  },
  {
   "cell_type": "code",
   "execution_count": 15,
   "metadata": {},
   "outputs": [
    {
     "data": {
      "text/html": [
       "<div>\n",
       "<style scoped>\n",
       "    .dataframe tbody tr th:only-of-type {\n",
       "        vertical-align: middle;\n",
       "    }\n",
       "\n",
       "    .dataframe tbody tr th {\n",
       "        vertical-align: top;\n",
       "    }\n",
       "\n",
       "    .dataframe thead th {\n",
       "        text-align: right;\n",
       "    }\n",
       "</style>\n",
       "<table border=\"1\" class=\"dataframe\">\n",
       "  <thead>\n",
       "    <tr style=\"text-align: right;\">\n",
       "      <th></th>\n",
       "      <th>Const</th>\n",
       "      <th>Your Rating</th>\n",
       "      <th>Date Rated</th>\n",
       "      <th>Title</th>\n",
       "      <th>URL</th>\n",
       "      <th>Title Type</th>\n",
       "      <th>IMDb Rating</th>\n",
       "      <th>Runtime (mins)</th>\n",
       "      <th>Year</th>\n",
       "      <th>Genres</th>\n",
       "      <th>Num Votes</th>\n",
       "      <th>Release Date</th>\n",
       "      <th>Directors</th>\n",
       "    </tr>\n",
       "  </thead>\n",
       "  <tbody>\n",
       "    <tr>\n",
       "      <th>0</th>\n",
       "      <td>tt0125439</td>\n",
       "      <td>5</td>\n",
       "      <td>2006-09-07</td>\n",
       "      <td>Notting Hill</td>\n",
       "      <td>https://www.imdb.com/title/tt0125439/</td>\n",
       "      <td>movie</td>\n",
       "      <td>7.1</td>\n",
       "      <td>124.0</td>\n",
       "      <td>1999</td>\n",
       "      <td>Comedy, Drama, Romance</td>\n",
       "      <td>258381</td>\n",
       "      <td>1999-05-13</td>\n",
       "      <td>Roger Michell</td>\n",
       "    </tr>\n",
       "    <tr>\n",
       "      <th>1</th>\n",
       "      <td>tt0133093</td>\n",
       "      <td>10</td>\n",
       "      <td>2006-09-07</td>\n",
       "      <td>The Matrix</td>\n",
       "      <td>https://www.imdb.com/title/tt0133093/</td>\n",
       "      <td>movie</td>\n",
       "      <td>8.7</td>\n",
       "      <td>136.0</td>\n",
       "      <td>1999</td>\n",
       "      <td>Action, Sci-Fi</td>\n",
       "      <td>1591123</td>\n",
       "      <td>1999-03-24</td>\n",
       "      <td>Lilly Wachowski, Lana Wachowski</td>\n",
       "    </tr>\n",
       "    <tr>\n",
       "      <th>2</th>\n",
       "      <td>tt0174856</td>\n",
       "      <td>9</td>\n",
       "      <td>2006-09-07</td>\n",
       "      <td>The Hurricane</td>\n",
       "      <td>https://www.imdb.com/title/tt0174856/</td>\n",
       "      <td>movie</td>\n",
       "      <td>7.6</td>\n",
       "      <td>146.0</td>\n",
       "      <td>1999</td>\n",
       "      <td>Biography, Drama, Sport</td>\n",
       "      <td>88665</td>\n",
       "      <td>1999-09-17</td>\n",
       "      <td>Norman Jewison</td>\n",
       "    </tr>\n",
       "    <tr>\n",
       "      <th>3</th>\n",
       "      <td>tt0177971</td>\n",
       "      <td>8</td>\n",
       "      <td>2006-09-07</td>\n",
       "      <td>The Perfect Storm</td>\n",
       "      <td>https://www.imdb.com/title/tt0177971/</td>\n",
       "      <td>movie</td>\n",
       "      <td>6.4</td>\n",
       "      <td>130.0</td>\n",
       "      <td>2000</td>\n",
       "      <td>Action, Adventure, Drama, Thriller</td>\n",
       "      <td>151065</td>\n",
       "      <td>2000-06-26</td>\n",
       "      <td>Wolfgang Petersen</td>\n",
       "    </tr>\n",
       "    <tr>\n",
       "      <th>4</th>\n",
       "      <td>tt0203755</td>\n",
       "      <td>7</td>\n",
       "      <td>2006-09-07</td>\n",
       "      <td>One Night at McCool's</td>\n",
       "      <td>https://www.imdb.com/title/tt0203755/</td>\n",
       "      <td>movie</td>\n",
       "      <td>6.1</td>\n",
       "      <td>93.0</td>\n",
       "      <td>2001</td>\n",
       "      <td>Comedy, Crime</td>\n",
       "      <td>27925</td>\n",
       "      <td>2001-04-19</td>\n",
       "      <td>Harald Zwart</td>\n",
       "    </tr>\n",
       "  </tbody>\n",
       "</table>\n",
       "</div>"
      ],
      "text/plain": [
       "       Const  Your Rating Date Rated                  Title  \\\n",
       "0  tt0125439            5 2006-09-07           Notting Hill   \n",
       "1  tt0133093           10 2006-09-07             The Matrix   \n",
       "2  tt0174856            9 2006-09-07          The Hurricane   \n",
       "3  tt0177971            8 2006-09-07      The Perfect Storm   \n",
       "4  tt0203755            7 2006-09-07  One Night at McCool's   \n",
       "\n",
       "                                     URL Title Type  IMDb Rating  \\\n",
       "0  https://www.imdb.com/title/tt0125439/      movie          7.1   \n",
       "1  https://www.imdb.com/title/tt0133093/      movie          8.7   \n",
       "2  https://www.imdb.com/title/tt0174856/      movie          7.6   \n",
       "3  https://www.imdb.com/title/tt0177971/      movie          6.4   \n",
       "4  https://www.imdb.com/title/tt0203755/      movie          6.1   \n",
       "\n",
       "   Runtime (mins)  Year                              Genres  Num Votes  \\\n",
       "0           124.0  1999              Comedy, Drama, Romance     258381   \n",
       "1           136.0  1999                      Action, Sci-Fi    1591123   \n",
       "2           146.0  1999             Biography, Drama, Sport      88665   \n",
       "3           130.0  2000  Action, Adventure, Drama, Thriller     151065   \n",
       "4            93.0  2001                       Comedy, Crime      27925   \n",
       "\n",
       "  Release Date                        Directors  \n",
       "0   1999-05-13                    Roger Michell  \n",
       "1   1999-03-24  Lilly Wachowski, Lana Wachowski  \n",
       "2   1999-09-17                   Norman Jewison  \n",
       "3   2000-06-26                Wolfgang Petersen  \n",
       "4   2001-04-19                     Harald Zwart  "
      ]
     },
     "execution_count": 15,
     "metadata": {},
     "output_type": "execute_result"
    }
   ],
   "source": [
    "df = pd.read_excel(\"Omer Eker IMDb Ratings 2020-04-06.xlsx\")\n",
    "df.head()"
   ]
  },
  {
   "cell_type": "markdown",
   "metadata": {},
   "source": [
    "Each row represents a film or tv series etc. and the columns are:\n",
    "* **Const**: Unique ID of the film\n",
    "* **Your Rating**: User's rating for the film\n",
    "* **Date Rated**: The date user rated the film\n",
    "* **Title**: Title of the film\n",
    "* **URL**: IMDb URL of the film\n",
    "* **Title Type**: Title type (movie, tv-series, short, video, etc.\n",
    "* **IMDb Rating**: Weighted average rating of the film\n",
    "* **Runtime(mins)**: Runtime of the film in minutes\n",
    "* **Year**: Release year of the film\n",
    "* **Genres**: Genre of the film (Comedy, drama, horror etc.)\n",
    "* **Num Votes**: The number of votes received by the film\n",
    "* **Release Date**: Release date in YYYY-MM-DD format (datetime object)\n",
    "* **Directors**: Directors of the film (some have multiple directors)\n",
    "\n",
    "It shows that I rated 1093 titles:"
   ]
  },
  {
   "cell_type": "code",
   "execution_count": 16,
   "metadata": {},
   "outputs": [
    {
     "name": "stdout",
     "output_type": "stream",
     "text": [
      "<class 'pandas.core.frame.DataFrame'>\n",
      "RangeIndex: 1093 entries, 0 to 1092\n",
      "Data columns (total 13 columns):\n",
      " #   Column          Non-Null Count  Dtype         \n",
      "---  ------          --------------  -----         \n",
      " 0   Const           1093 non-null   object        \n",
      " 1   Your Rating     1093 non-null   int64         \n",
      " 2   Date Rated      1093 non-null   datetime64[ns]\n",
      " 3   Title           1093 non-null   object        \n",
      " 4   URL             1093 non-null   object        \n",
      " 5   Title Type      1093 non-null   object        \n",
      " 6   IMDb Rating     1093 non-null   float64       \n",
      " 7   Runtime (mins)  1089 non-null   float64       \n",
      " 8   Year            1093 non-null   int64         \n",
      " 9   Genres          1093 non-null   object        \n",
      " 10  Num Votes       1093 non-null   int64         \n",
      " 11  Release Date    1080 non-null   datetime64[ns]\n",
      " 12  Directors       1047 non-null   object        \n",
      "dtypes: datetime64[ns](2), float64(2), int64(3), object(6)\n",
      "memory usage: 111.1+ KB\n"
     ]
    }
   ],
   "source": [
    "df.info()"
   ]
  },
  {
   "cell_type": "markdown",
   "metadata": {},
   "source": [
    "### Distribution of User's Ratings\n",
    "Distribution of the member's ratings are visualised in either bar chart (left) and a donut chart (right):\n",
    "* Half of the ratings are either 6 or 7\n",
    "* Majority of the ratings are in between 5 and 9"
   ]
  },
  {
   "cell_type": "code",
   "execution_count": 17,
   "metadata": {},
   "outputs": [
    {
     "data": {
      "application/vnd.jupyter.widget-view+json": {
       "model_id": "79ce9debdb1c4eeab9c223985b5e4d14",
       "version_major": 2,
       "version_minor": 0
      },
      "text/plain": [
       "Canvas(toolbar=Toolbar(toolitems=[('Home', 'Reset original view', 'home', 'home'), ('Back', 'Back to previous …"
      ]
     },
     "metadata": {},
     "output_type": "display_data"
    }
   ],
   "source": [
    "rating_counts = df[\"Your Rating\"].value_counts().sort_index()\n",
    "\n",
    "plt.figure(figsize=(9.4,4))\n",
    "\n",
    "plt.subplot(1,2,1)\n",
    "sns.countplot(x=df[\"Your Rating\"])\n",
    "\n",
    "for i,rate in enumerate(rating_counts):\n",
    "    plt.text(i,rate+2,f\"{round(100*rate/df.shape[0])}%\",ha=\"center\")\n",
    "    \n",
    "plt.subplot(1,2,2)   \n",
    "df[\"Your Rating\"].value_counts().plot.pie(autopct=\"%.0f%%\",pctdistance=0.8,wedgeprops=dict(width=0.4))\n",
    "\n",
    "plt.tight_layout()\n",
    "plt.show()"
   ]
  },
  {
   "cell_type": "markdown",
   "metadata": {},
   "source": [
    "### Yearly Rating Trends\n",
    "\n",
    "* I stated to give ratings since 2006 (right graph)\n",
    "* The peak in the right graph in 2011 is where I took a decision to take rating more seriously, and start rating all the films I watched before\n",
    "* The graph in the left shows that the majority of the films I rated were released in 90s and after\n",
    "* In the same graph, I can relate the peak in 2003 to my BSc start where I started watching films overwhelmingly most of them was released at that year (If I'd started rating we could have seen the peak in 2003 in the right hand side graph too)\n",
    "* Starting from 2015, the number of rated films have been linearly increasing"
   ]
  },
  {
   "cell_type": "code",
   "execution_count": 18,
   "metadata": {},
   "outputs": [
    {
     "data": {
      "application/vnd.jupyter.widget-view+json": {
       "model_id": "7d464b5a43ed4399ad541a134d791599",
       "version_major": 2,
       "version_minor": 0
      },
      "text/plain": [
       "Canvas(toolbar=Toolbar(toolitems=[('Home', 'Reset original view', 'home', 'home'), ('Back', 'Back to previous …"
      ]
     },
     "metadata": {},
     "output_type": "display_data"
    }
   ],
   "source": [
    "plt.figure(figsize=(9.4,3))\n",
    "plt.subplot(1,2,1)\n",
    "df.groupby(pd.Grouper(key=\"Release Date\",freq=\"1Y\")).count()[\"Title\"].plot()\n",
    "plt.gca().annotate(\"BSc starts (2003)\",xy=(date(2003,1,1),50),xytext=(date(1960,1,1),80),\n",
    "                   arrowprops=dict(width=1,color=\"sandybrown\"))\n",
    "plt.title(\"Vote counts per film release date\",fontweight=\"bold\")\n",
    "plt.subplot(1,2,2)\n",
    "df.groupby(pd.Grouper(key=\"Date Rated\",freq=\"1Q\")).count()[\"Title\"].plot()\n",
    "plt.gca().annotate(\"Rating Decision Made\",xy=(date(2011,1,1),190),xytext=(date(2014,1,1),100),\n",
    "                  arrowprops=dict(color=\"sandybrown\",width=1))\n",
    "plt.title(\"Vote counts per year\",fontweight=\"bold\")\n",
    "plt.tight_layout()\n",
    "plt.show()"
   ]
  },
  {
   "cell_type": "markdown",
   "metadata": {},
   "source": [
    "The graph below combines the two graphs above:\n",
    "* y=x line is the most crowdy region as user's tend to watch that year's films more\n",
    "* As can be seen at x=2011 user rated films from almost all previous year's releases"
   ]
  },
  {
   "cell_type": "code",
   "execution_count": 19,
   "metadata": {},
   "outputs": [
    {
     "data": {
      "application/vnd.jupyter.widget-view+json": {
       "model_id": "5ea2ee8636d644b5a9bf1376c53fea92",
       "version_major": 2,
       "version_minor": 0
      },
      "text/plain": [
       "Canvas(toolbar=Toolbar(toolitems=[('Home', 'Reset original view', 'home', 'home'), ('Back', 'Back to previous …"
      ]
     },
     "metadata": {},
     "output_type": "display_data"
    }
   ],
   "source": [
    "plt.figure(figsize=(9.4,6))\n",
    "sns.scatterplot(y=\"Release Date\",x=\"Date Rated\",data=df,edgecolor=\"cornflowerblue\")\n",
    "plt.show()"
   ]
  },
  {
   "cell_type": "markdown",
   "metadata": {},
   "source": [
    "### User's ratings vs IMDb weighted average ratings\n",
    "Let's compare my ratings with the IMDb's weighted average ratings. The boxenplot graph below shows that they seem to correlate positively with some exceptions mainly in my low ratings:"
   ]
  },
  {
   "cell_type": "code",
   "execution_count": 20,
   "metadata": {},
   "outputs": [
    {
     "data": {
      "application/vnd.jupyter.widget-view+json": {
       "model_id": "84a6dedca1794e9db54c17c00bd2a849",
       "version_major": 2,
       "version_minor": 0
      },
      "text/plain": [
       "Canvas(toolbar=Toolbar(toolitems=[('Home', 'Reset original view', 'home', 'home'), ('Back', 'Back to previous …"
      ]
     },
     "metadata": {},
     "output_type": "display_data"
    }
   ],
   "source": [
    "plt.figure(figsize=(9,5))\n",
    "sns.boxenplot(x=\"Your Rating\",y=\"IMDb Rating\",data=df)\n",
    "plt.xlabel(\"User's Rating\")\n",
    "# sns.swarmplot(x=\"Your Rating\",y=\"IMDb Rating\",data=df,color=\"cornflowerblue\",alpha=0.4)\n",
    "plt.show()"
   ]
  },
  {
   "cell_type": "markdown",
   "metadata": {},
   "source": [
    "45% correlation between the users and IMDb's averages are calculated:"
   ]
  },
  {
   "cell_type": "code",
   "execution_count": 21,
   "metadata": {},
   "outputs": [
    {
     "data": {
      "text/html": [
       "<div>\n",
       "<style scoped>\n",
       "    .dataframe tbody tr th:only-of-type {\n",
       "        vertical-align: middle;\n",
       "    }\n",
       "\n",
       "    .dataframe tbody tr th {\n",
       "        vertical-align: top;\n",
       "    }\n",
       "\n",
       "    .dataframe thead th {\n",
       "        text-align: right;\n",
       "    }\n",
       "</style>\n",
       "<table border=\"1\" class=\"dataframe\">\n",
       "  <thead>\n",
       "    <tr style=\"text-align: right;\">\n",
       "      <th></th>\n",
       "      <th>Your Rating</th>\n",
       "      <th>IMDb Rating</th>\n",
       "    </tr>\n",
       "  </thead>\n",
       "  <tbody>\n",
       "    <tr>\n",
       "      <th>Your Rating</th>\n",
       "      <td>1.000000</td>\n",
       "      <td>0.453256</td>\n",
       "    </tr>\n",
       "    <tr>\n",
       "      <th>IMDb Rating</th>\n",
       "      <td>0.453256</td>\n",
       "      <td>1.000000</td>\n",
       "    </tr>\n",
       "  </tbody>\n",
       "</table>\n",
       "</div>"
      ],
      "text/plain": [
       "             Your Rating  IMDb Rating\n",
       "Your Rating     1.000000     0.453256\n",
       "IMDb Rating     0.453256     1.000000"
      ]
     },
     "execution_count": 21,
     "metadata": {},
     "output_type": "execute_result"
    }
   ],
   "source": [
    "df[[\"Your Rating\",\"IMDb Rating\"]].corr()"
   ]
  },
  {
   "cell_type": "markdown",
   "metadata": {},
   "source": [
    "### Not much of a series fan\n",
    "\n",
    "Almost all of my ratings come from \"movie\" ratings. I heavily tend to watch films rather than watching series. TV Mini Series which capture 0.7% of my ratings are mainly Netflix documentary or short series like Black Mirror:"
   ]
  },
  {
   "cell_type": "code",
   "execution_count": 22,
   "metadata": {},
   "outputs": [
    {
     "data": {
      "application/vnd.jupyter.widget-view+json": {
       "model_id": "69df7221813043a4b3ea3e53a554dcd0",
       "version_major": 2,
       "version_minor": 0
      },
      "text/plain": [
       "Canvas(toolbar=Toolbar(toolitems=[('Home', 'Reset original view', 'home', 'home'), ('Back', 'Back to previous …"
      ]
     },
     "metadata": {},
     "output_type": "display_data"
    }
   ],
   "source": [
    "title_counts = df[\"Title Type\"].value_counts()\n",
    "\n",
    "plt.figure(figsize=(9,3))\n",
    "sns.countplot(y=\"Title Type\",data=df,order=title_counts.index)\n",
    "for i,count in enumerate(title_counts):\n",
    "    plt.text(count+35,i,f\"{round(100*count/df.shape[0],1)}%\",ha=\"center\")\n",
    "plt.tight_layout()\n",
    "plt.show()"
   ]
  },
  {
   "cell_type": "markdown",
   "metadata": {},
   "source": [
    "### Top 20 directors which I watched their films the most"
   ]
  },
  {
   "cell_type": "code",
   "execution_count": 23,
   "metadata": {},
   "outputs": [
    {
     "data": {
      "application/vnd.jupyter.widget-view+json": {
       "model_id": "217d90547080444698b7a062892706d4",
       "version_major": 2,
       "version_minor": 0
      },
      "text/plain": [
       "Canvas(toolbar=Toolbar(toolitems=[('Home', 'Reset original view', 'home', 'home'), ('Back', 'Back to previous …"
      ]
     },
     "metadata": {},
     "output_type": "display_data"
    }
   ],
   "source": [
    "dir_counts = df.Directors.value_counts()[:20]\n",
    "\n",
    "plt.figure(figsize=(9,5))\n",
    "sns.barplot(y=dir_counts.index,x=dir_counts.values)\n",
    "plt.tight_layout()\n",
    "plt.show()"
   ]
  },
  {
   "cell_type": "markdown",
   "metadata": {},
   "source": [
    "### Runtime distribution of the films\n",
    "\n",
    "* Average (mean) runtime of the titles (films, series, etc.) is almost 2 hours\n",
    "* It shows normal-like distribution with a longer tail in the positive side, which is due to the long total runtimes of series or documentary series."
   ]
  },
  {
   "cell_type": "code",
   "execution_count": 24,
   "metadata": {},
   "outputs": [
    {
     "data": {
      "application/vnd.jupyter.widget-view+json": {
       "model_id": "e018b8b800a74c84a65a03694dfb1bc3",
       "version_major": 2,
       "version_minor": 0
      },
      "text/plain": [
       "Canvas(toolbar=Toolbar(toolitems=[('Home', 'Reset original view', 'home', 'home'), ('Back', 'Back to previous …"
      ]
     },
     "metadata": {},
     "output_type": "display_data"
    }
   ],
   "source": [
    "mean_runtime = df[\"Runtime (mins)\"].mean()\n",
    "\n",
    "plt.figure()\n",
    "sns.distplot(df[\"Runtime (mins)\"].dropna(),label=\"Runtime distribution\")\n",
    "# plt.gca().set_yscale(\"log\")\n",
    "\n",
    "plt.gca().axvline(mean_runtime,color=\"sandybrown\",label=f\"Mean Runtime: {int(mean_runtime)}m\")\n",
    "plt.gca().axvspan(200,600,color=\"slateblue\",alpha=0.1,label=\"Not Films (series, documentaries)\")\n",
    "plt.legend()\n",
    "plt.show()"
   ]
  },
  {
   "cell_type": "markdown",
   "metadata": {},
   "source": [
    "### Breakdown of the Genres\n",
    "\n",
    "Since most titles are associated to multiple genres we can use a specific function to count and convert them to one hot encoded variables: **Count Vectorizer** NLP feature extraction function from Scikit-Learn library:"
   ]
  },
  {
   "cell_type": "code",
   "execution_count": 25,
   "metadata": {},
   "outputs": [
    {
     "data": {
      "text/html": [
       "<div>\n",
       "<style scoped>\n",
       "    .dataframe tbody tr th:only-of-type {\n",
       "        vertical-align: middle;\n",
       "    }\n",
       "\n",
       "    .dataframe tbody tr th {\n",
       "        vertical-align: top;\n",
       "    }\n",
       "\n",
       "    .dataframe thead th {\n",
       "        text-align: right;\n",
       "    }\n",
       "</style>\n",
       "<table border=\"1\" class=\"dataframe\">\n",
       "  <thead>\n",
       "    <tr style=\"text-align: right;\">\n",
       "      <th></th>\n",
       "      <th>Const</th>\n",
       "      <th>Your Rating</th>\n",
       "      <th>Date Rated</th>\n",
       "      <th>Title</th>\n",
       "      <th>URL</th>\n",
       "      <th>Title Type</th>\n",
       "      <th>IMDb Rating</th>\n",
       "      <th>Runtime (mins)</th>\n",
       "      <th>Year</th>\n",
       "      <th>Genres</th>\n",
       "      <th>...</th>\n",
       "      <th>news</th>\n",
       "      <th>reality-tv</th>\n",
       "      <th>romance</th>\n",
       "      <th>sci-fi</th>\n",
       "      <th>short</th>\n",
       "      <th>sport</th>\n",
       "      <th>talk-show</th>\n",
       "      <th>thriller</th>\n",
       "      <th>war</th>\n",
       "      <th>western</th>\n",
       "    </tr>\n",
       "  </thead>\n",
       "  <tbody>\n",
       "    <tr>\n",
       "      <th>0</th>\n",
       "      <td>tt0125439</td>\n",
       "      <td>5</td>\n",
       "      <td>2006-09-07</td>\n",
       "      <td>Notting Hill</td>\n",
       "      <td>https://www.imdb.com/title/tt0125439/</td>\n",
       "      <td>movie</td>\n",
       "      <td>7.1</td>\n",
       "      <td>124.0</td>\n",
       "      <td>1999</td>\n",
       "      <td>Comedy, Drama, Romance</td>\n",
       "      <td>...</td>\n",
       "      <td>0</td>\n",
       "      <td>0</td>\n",
       "      <td>1</td>\n",
       "      <td>0</td>\n",
       "      <td>0</td>\n",
       "      <td>0</td>\n",
       "      <td>0</td>\n",
       "      <td>0</td>\n",
       "      <td>0</td>\n",
       "      <td>0</td>\n",
       "    </tr>\n",
       "    <tr>\n",
       "      <th>1</th>\n",
       "      <td>tt0133093</td>\n",
       "      <td>10</td>\n",
       "      <td>2006-09-07</td>\n",
       "      <td>The Matrix</td>\n",
       "      <td>https://www.imdb.com/title/tt0133093/</td>\n",
       "      <td>movie</td>\n",
       "      <td>8.7</td>\n",
       "      <td>136.0</td>\n",
       "      <td>1999</td>\n",
       "      <td>Action, Sci-Fi</td>\n",
       "      <td>...</td>\n",
       "      <td>0</td>\n",
       "      <td>0</td>\n",
       "      <td>0</td>\n",
       "      <td>1</td>\n",
       "      <td>0</td>\n",
       "      <td>0</td>\n",
       "      <td>0</td>\n",
       "      <td>0</td>\n",
       "      <td>0</td>\n",
       "      <td>0</td>\n",
       "    </tr>\n",
       "    <tr>\n",
       "      <th>2</th>\n",
       "      <td>tt0174856</td>\n",
       "      <td>9</td>\n",
       "      <td>2006-09-07</td>\n",
       "      <td>The Hurricane</td>\n",
       "      <td>https://www.imdb.com/title/tt0174856/</td>\n",
       "      <td>movie</td>\n",
       "      <td>7.6</td>\n",
       "      <td>146.0</td>\n",
       "      <td>1999</td>\n",
       "      <td>Biography, Drama, Sport</td>\n",
       "      <td>...</td>\n",
       "      <td>0</td>\n",
       "      <td>0</td>\n",
       "      <td>0</td>\n",
       "      <td>0</td>\n",
       "      <td>0</td>\n",
       "      <td>1</td>\n",
       "      <td>0</td>\n",
       "      <td>0</td>\n",
       "      <td>0</td>\n",
       "      <td>0</td>\n",
       "    </tr>\n",
       "    <tr>\n",
       "      <th>3</th>\n",
       "      <td>tt0177971</td>\n",
       "      <td>8</td>\n",
       "      <td>2006-09-07</td>\n",
       "      <td>The Perfect Storm</td>\n",
       "      <td>https://www.imdb.com/title/tt0177971/</td>\n",
       "      <td>movie</td>\n",
       "      <td>6.4</td>\n",
       "      <td>130.0</td>\n",
       "      <td>2000</td>\n",
       "      <td>Action, Adventure, Drama, Thriller</td>\n",
       "      <td>...</td>\n",
       "      <td>0</td>\n",
       "      <td>0</td>\n",
       "      <td>0</td>\n",
       "      <td>0</td>\n",
       "      <td>0</td>\n",
       "      <td>0</td>\n",
       "      <td>0</td>\n",
       "      <td>1</td>\n",
       "      <td>0</td>\n",
       "      <td>0</td>\n",
       "    </tr>\n",
       "    <tr>\n",
       "      <th>4</th>\n",
       "      <td>tt0203755</td>\n",
       "      <td>7</td>\n",
       "      <td>2006-09-07</td>\n",
       "      <td>One Night at McCool's</td>\n",
       "      <td>https://www.imdb.com/title/tt0203755/</td>\n",
       "      <td>movie</td>\n",
       "      <td>6.1</td>\n",
       "      <td>93.0</td>\n",
       "      <td>2001</td>\n",
       "      <td>Comedy, Crime</td>\n",
       "      <td>...</td>\n",
       "      <td>0</td>\n",
       "      <td>0</td>\n",
       "      <td>0</td>\n",
       "      <td>0</td>\n",
       "      <td>0</td>\n",
       "      <td>0</td>\n",
       "      <td>0</td>\n",
       "      <td>0</td>\n",
       "      <td>0</td>\n",
       "      <td>0</td>\n",
       "    </tr>\n",
       "  </tbody>\n",
       "</table>\n",
       "<p>5 rows × 39 columns</p>\n",
       "</div>"
      ],
      "text/plain": [
       "       Const  Your Rating Date Rated                  Title  \\\n",
       "0  tt0125439            5 2006-09-07           Notting Hill   \n",
       "1  tt0133093           10 2006-09-07             The Matrix   \n",
       "2  tt0174856            9 2006-09-07          The Hurricane   \n",
       "3  tt0177971            8 2006-09-07      The Perfect Storm   \n",
       "4  tt0203755            7 2006-09-07  One Night at McCool's   \n",
       "\n",
       "                                     URL Title Type  IMDb Rating  \\\n",
       "0  https://www.imdb.com/title/tt0125439/      movie          7.1   \n",
       "1  https://www.imdb.com/title/tt0133093/      movie          8.7   \n",
       "2  https://www.imdb.com/title/tt0174856/      movie          7.6   \n",
       "3  https://www.imdb.com/title/tt0177971/      movie          6.4   \n",
       "4  https://www.imdb.com/title/tt0203755/      movie          6.1   \n",
       "\n",
       "   Runtime (mins)  Year                              Genres  ...  news  \\\n",
       "0           124.0  1999              Comedy, Drama, Romance  ...     0   \n",
       "1           136.0  1999                      Action, Sci-Fi  ...     0   \n",
       "2           146.0  1999             Biography, Drama, Sport  ...     0   \n",
       "3           130.0  2000  Action, Adventure, Drama, Thriller  ...     0   \n",
       "4            93.0  2001                       Comedy, Crime  ...     0   \n",
       "\n",
       "  reality-tv romance  sci-fi  short  sport  talk-show  thriller  war  western  \n",
       "0          0       1       0      0      0          0         0    0        0  \n",
       "1          0       0       1      0      0          0         0    0        0  \n",
       "2          0       0       0      0      1          0         0    0        0  \n",
       "3          0       0       0      0      0          0         1    0        0  \n",
       "4          0       0       0      0      0          0         0    0        0  \n",
       "\n",
       "[5 rows x 39 columns]"
      ]
     },
     "execution_count": 25,
     "metadata": {},
     "output_type": "execute_result"
    }
   ],
   "source": [
    "from sklearn.feature_extraction.text import CountVectorizer\n",
    "\n",
    "vec = CountVectorizer(token_pattern='(?u)\\\\b[\\\\w-]+\\\\b').fit(df[\"Genres\"])\n",
    "bag_of_genres = vec.transform(df[\"Genres\"])\n",
    "\n",
    "genres_dummy = pd.DataFrame(bag_of_genres.todense(),columns=vec.get_feature_names())\n",
    "df[vec.get_feature_names()] = genres_dummy\n",
    "df.head()"
   ]
  },
  {
   "cell_type": "markdown",
   "metadata": {},
   "source": [
    "Now we have extra 26 one-hot-encoded variable for each genre that are concatenated to the end of our table. Let's calculate their frequencies:\n",
    "* Tend to watch more Drama, Mystery, Thriller, Sci-Fi genres as their percentages are over the population averages (another notebook which gives interesting statistics of the IMDb's most recent statistics of the whole user population coming soon)"
   ]
  },
  {
   "cell_type": "code",
   "execution_count": 26,
   "metadata": {},
   "outputs": [
    {
     "data": {
      "application/vnd.jupyter.widget-view+json": {
       "model_id": "5a83c15c38724a6ead0635bc0837b621",
       "version_major": 2,
       "version_minor": 0
      },
      "text/plain": [
       "Canvas(toolbar=Toolbar(toolitems=[('Home', 'Reset original view', 'home', 'home'), ('Back', 'Back to previous …"
      ]
     },
     "metadata": {},
     "output_type": "display_data"
    }
   ],
   "source": [
    "genre_counts = 100*df[vec.get_feature_names()].sum().sort_values(ascending=False)/df.shape[0]\n",
    "\n",
    "plt.figure()\n",
    "sns.barplot(x=genre_counts.values,y=genre_counts.index,orient=\"h\")\n",
    "plt.xlabel(\"Percentage of Titles (%)\")\n",
    "plt.ylabel(\"Genre\")\n",
    "plt.tight_layout()\n",
    "plt.show()"
   ]
  },
  {
   "cell_type": "markdown",
   "metadata": {},
   "source": [
    "### Future work\n",
    "\n",
    "* This work can be extended by comparing user's stats with whole IMDb's user population averages\n",
    "* The table can be extended by joining other tables from IMDb's open database: https://www.imdb.com/interfaces/\n",
    "* After extending the table with other tables some frequency analysis can be made on Actors, Writers etc."
   ]
  },
  {
   "cell_type": "code",
   "execution_count": null,
   "metadata": {},
   "outputs": [],
   "source": []
  }
 ],
 "metadata": {
  "kernelspec": {
   "display_name": "Python 3",
   "language": "python",
   "name": "python3"
  },
  "language_info": {
   "codemirror_mode": {
    "name": "ipython",
    "version": 3
   },
   "file_extension": ".py",
   "mimetype": "text/x-python",
   "name": "python",
   "nbconvert_exporter": "python",
   "pygments_lexer": "ipython3",
   "version": "3.7.5"
  },
  "varInspector": {
   "cols": {
    "lenName": 16,
    "lenType": 16,
    "lenVar": 40
   },
   "kernels_config": {
    "python": {
     "delete_cmd_postfix": "",
     "delete_cmd_prefix": "del ",
     "library": "var_list.py",
     "varRefreshCmd": "print(var_dic_list())"
    },
    "r": {
     "delete_cmd_postfix": ") ",
     "delete_cmd_prefix": "rm(",
     "library": "var_list.r",
     "varRefreshCmd": "cat(var_dic_list()) "
    }
   },
   "types_to_exclude": [
    "module",
    "function",
    "builtin_function_or_method",
    "instance",
    "_Feature"
   ],
   "window_display": false
  }
 },
 "nbformat": 4,
 "nbformat_minor": 4
}
